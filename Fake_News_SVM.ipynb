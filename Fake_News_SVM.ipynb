{
 "cells": [
  {
   "cell_type": "markdown",
   "metadata": {},
   "source": [
    "# Computing a SVM Model for Accurate Fake News Detection"
   ]
  },
  {
   "cell_type": "markdown",
   "metadata": {},
   "source": [
    "### STEP 1: Importing the libraries"
   ]
  },
  {
   "cell_type": "code",
   "execution_count": 252,
   "metadata": {},
   "outputs": [],
   "source": [
    "import numpy as np\n",
    "import seaborn as sb\n",
    "import pandas as pd\n",
    "import matplotlib.pyplot as plt\n",
    "from sklearn.model_selection import train_test_split\n",
    "from sklearn.feature_extraction.text import CountVectorizer\n",
    "from sklearn.svm import SVC\n",
    "from sklearn.feature_extraction.text import TfidfVectorizer\n",
    "from sklearn.metrics import accuracy_score, classification_report, confusion_matrix, ConfusionMatrixDisplay\n",
    "from sklearn.inspection import permutation_importance\n",
    "import warnings\n",
    "\n",
    "sb.set_theme()\n",
    "warnings.filterwarnings('ignore')"
   ]
  },
  {
   "cell_type": "markdown",
   "metadata": {},
   "source": [
    "### STEP 2: Reading the Data"
   ]
  },
  {
   "cell_type": "code",
   "execution_count": 231,
   "metadata": {},
   "outputs": [
    {
     "data": {
      "text/html": [
       "<div>\n",
       "<style scoped>\n",
       "    .dataframe tbody tr th:only-of-type {\n",
       "        vertical-align: middle;\n",
       "    }\n",
       "\n",
       "    .dataframe tbody tr th {\n",
       "        vertical-align: top;\n",
       "    }\n",
       "\n",
       "    .dataframe thead th {\n",
       "        text-align: right;\n",
       "    }\n",
       "</style>\n",
       "<table border=\"1\" class=\"dataframe\">\n",
       "  <thead>\n",
       "    <tr style=\"text-align: right;\">\n",
       "      <th></th>\n",
       "      <th>Unnamed: 0</th>\n",
       "      <th>title</th>\n",
       "      <th>text</th>\n",
       "      <th>label</th>\n",
       "    </tr>\n",
       "  </thead>\n",
       "  <tbody>\n",
       "    <tr>\n",
       "      <th>0</th>\n",
       "      <td>0</td>\n",
       "      <td>LAW ENFORCEMENT ON HIGH ALERT Following Threat...</td>\n",
       "      <td>No comment is expected from Barack Obama Membe...</td>\n",
       "      <td>1</td>\n",
       "    </tr>\n",
       "    <tr>\n",
       "      <th>1</th>\n",
       "      <td>1</td>\n",
       "      <td>NaN</td>\n",
       "      <td>Did they post their votes for Hillary already?</td>\n",
       "      <td>1</td>\n",
       "    </tr>\n",
       "    <tr>\n",
       "      <th>2</th>\n",
       "      <td>2</td>\n",
       "      <td>UNBELIEVABLE! OBAMA’S ATTORNEY GENERAL SAYS MO...</td>\n",
       "      <td>Now, most of the demonstrators gathered last ...</td>\n",
       "      <td>1</td>\n",
       "    </tr>\n",
       "    <tr>\n",
       "      <th>3</th>\n",
       "      <td>3</td>\n",
       "      <td>Bobby Jindal, raised Hindu, uses story of Chri...</td>\n",
       "      <td>A dozen politically active pastors came here f...</td>\n",
       "      <td>0</td>\n",
       "    </tr>\n",
       "    <tr>\n",
       "      <th>4</th>\n",
       "      <td>4</td>\n",
       "      <td>SATAN 2: Russia unvelis an image of its terrif...</td>\n",
       "      <td>The RS-28 Sarmat missile, dubbed Satan 2, will...</td>\n",
       "      <td>1</td>\n",
       "    </tr>\n",
       "  </tbody>\n",
       "</table>\n",
       "</div>"
      ],
      "text/plain": [
       "   Unnamed: 0                                              title  \\\n",
       "0           0  LAW ENFORCEMENT ON HIGH ALERT Following Threat...   \n",
       "1           1                                                NaN   \n",
       "2           2  UNBELIEVABLE! OBAMA’S ATTORNEY GENERAL SAYS MO...   \n",
       "3           3  Bobby Jindal, raised Hindu, uses story of Chri...   \n",
       "4           4  SATAN 2: Russia unvelis an image of its terrif...   \n",
       "\n",
       "                                                text  label  \n",
       "0  No comment is expected from Barack Obama Membe...      1  \n",
       "1     Did they post their votes for Hillary already?      1  \n",
       "2   Now, most of the demonstrators gathered last ...      1  \n",
       "3  A dozen politically active pastors came here f...      0  \n",
       "4  The RS-28 Sarmat missile, dubbed Satan 2, will...      1  "
      ]
     },
     "execution_count": 231,
     "metadata": {},
     "output_type": "execute_result"
    }
   ],
   "source": [
    "df=pd.read_csv('WELFake_Dataset.csv')\n",
    "df.head()"
   ]
  },
  {
   "cell_type": "code",
   "execution_count": 232,
   "metadata": {},
   "outputs": [
    {
     "name": "stdout",
     "output_type": "stream",
     "text": [
      "<class 'pandas.core.frame.DataFrame'>\n",
      "RangeIndex: 72134 entries, 0 to 72133\n",
      "Data columns (total 4 columns):\n",
      " #   Column      Non-Null Count  Dtype \n",
      "---  ------      --------------  ----- \n",
      " 0   Unnamed: 0  72134 non-null  int64 \n",
      " 1   title       71576 non-null  object\n",
      " 2   text        72095 non-null  object\n",
      " 3   label       72134 non-null  int64 \n",
      "dtypes: int64(2), object(2)\n",
      "memory usage: 2.2+ MB\n"
     ]
    }
   ],
   "source": [
    "df.info()"
   ]
  },
  {
   "cell_type": "code",
   "execution_count": 233,
   "metadata": {},
   "outputs": [
    {
     "data": {
      "text/html": [
       "<div>\n",
       "<style scoped>\n",
       "    .dataframe tbody tr th:only-of-type {\n",
       "        vertical-align: middle;\n",
       "    }\n",
       "\n",
       "    .dataframe tbody tr th {\n",
       "        vertical-align: top;\n",
       "    }\n",
       "\n",
       "    .dataframe thead th {\n",
       "        text-align: right;\n",
       "    }\n",
       "</style>\n",
       "<table border=\"1\" class=\"dataframe\">\n",
       "  <thead>\n",
       "    <tr style=\"text-align: right;\">\n",
       "      <th></th>\n",
       "      <th>title</th>\n",
       "      <th>text</th>\n",
       "      <th>label</th>\n",
       "    </tr>\n",
       "  </thead>\n",
       "  <tbody>\n",
       "    <tr>\n",
       "      <th>0</th>\n",
       "      <td>LAW ENFORCEMENT ON HIGH ALERT Following Threat...</td>\n",
       "      <td>No comment is expected from Barack Obama Membe...</td>\n",
       "      <td>1</td>\n",
       "    </tr>\n",
       "    <tr>\n",
       "      <th>1</th>\n",
       "      <td>NaN</td>\n",
       "      <td>Did they post their votes for Hillary already?</td>\n",
       "      <td>1</td>\n",
       "    </tr>\n",
       "    <tr>\n",
       "      <th>2</th>\n",
       "      <td>UNBELIEVABLE! OBAMA’S ATTORNEY GENERAL SAYS MO...</td>\n",
       "      <td>Now, most of the demonstrators gathered last ...</td>\n",
       "      <td>1</td>\n",
       "    </tr>\n",
       "    <tr>\n",
       "      <th>3</th>\n",
       "      <td>Bobby Jindal, raised Hindu, uses story of Chri...</td>\n",
       "      <td>A dozen politically active pastors came here f...</td>\n",
       "      <td>0</td>\n",
       "    </tr>\n",
       "    <tr>\n",
       "      <th>4</th>\n",
       "      <td>SATAN 2: Russia unvelis an image of its terrif...</td>\n",
       "      <td>The RS-28 Sarmat missile, dubbed Satan 2, will...</td>\n",
       "      <td>1</td>\n",
       "    </tr>\n",
       "  </tbody>\n",
       "</table>\n",
       "</div>"
      ],
      "text/plain": [
       "                                               title  \\\n",
       "0  LAW ENFORCEMENT ON HIGH ALERT Following Threat...   \n",
       "1                                                NaN   \n",
       "2  UNBELIEVABLE! OBAMA’S ATTORNEY GENERAL SAYS MO...   \n",
       "3  Bobby Jindal, raised Hindu, uses story of Chri...   \n",
       "4  SATAN 2: Russia unvelis an image of its terrif...   \n",
       "\n",
       "                                                text  label  \n",
       "0  No comment is expected from Barack Obama Membe...      1  \n",
       "1     Did they post their votes for Hillary already?      1  \n",
       "2   Now, most of the demonstrators gathered last ...      1  \n",
       "3  A dozen politically active pastors came here f...      0  \n",
       "4  The RS-28 Sarmat missile, dubbed Satan 2, will...      1  "
      ]
     },
     "execution_count": 233,
     "metadata": {},
     "output_type": "execute_result"
    }
   ],
   "source": [
    "# Drop the 'Unnamed' column\n",
    "df = df.drop(df.columns[0], axis=1)\n",
    "df.head()\n"
   ]
  },
  {
   "cell_type": "code",
   "execution_count": 234,
   "metadata": {},
   "outputs": [
    {
     "name": "stdout",
     "output_type": "stream",
     "text": [
      "<class 'pandas.core.frame.DataFrame'>\n",
      "RangeIndex: 72134 entries, 0 to 72133\n",
      "Data columns (total 3 columns):\n",
      " #   Column  Non-Null Count  Dtype \n",
      "---  ------  --------------  ----- \n",
      " 0   title   71576 non-null  object\n",
      " 1   text    72095 non-null  object\n",
      " 2   label   72134 non-null  int64 \n",
      "dtypes: int64(1), object(2)\n",
      "memory usage: 1.7+ MB\n"
     ]
    }
   ],
   "source": [
    "# to confirm that the unamed colum is removed\n",
    "df.info()"
   ]
  },
  {
   "cell_type": "code",
   "execution_count": 235,
   "metadata": {},
   "outputs": [
    {
     "name": "stdout",
     "output_type": "stream",
     "text": [
      "Rows with missing titles before filling:\n",
      "      title                                               text  label\n",
      "1       NaN     Did they post their votes for Hillary already?      1\n",
      "43      NaN  True. Hillary needs a distraction and what bet...      1\n",
      "162     NaN  All eyes on Electoral delegates. The People kn...      1\n",
      "185     NaN                                               Cool      1\n",
      "269     NaN  A leading US senator: US Supporting War in Syr...      1\n",
      "...     ...                                                ...    ...\n",
      "71484   NaN  Another Arab supremacist masturbation fantasy....      1\n",
      "71521   NaN  I'm sure they drastically changed accounting m...      1\n",
      "71540   NaN  It's easy to imagine Obama or Kerry pissing hi...      1\n",
      "71570   NaN  Ever since the powers to be assassinated JFK A...      1\n",
      "71734   NaN             Hmm, free college, now that's an idea.      1\n",
      "\n",
      "[558 rows x 3 columns]\n"
     ]
    }
   ],
   "source": [
    "df.isnull().sum()\n",
    "# Print rows with missing or placeholder titles\n",
    "# Save rows with missing or empty titles\n",
    "missing_titles = df[df['title'].isnull() | (df['title'] == \"\")]\n",
    "print(f\"Rows with missing titles before filling:\\n{missing_titles}\")\n"
   ]
  },
  {
   "cell_type": "code",
   "execution_count": 236,
   "metadata": {},
   "outputs": [
    {
     "data": {
      "text/plain": [
       "title    0\n",
       "text     0\n",
       "label    0\n",
       "dtype: int64"
      ]
     },
     "execution_count": 236,
     "metadata": {},
     "output_type": "execute_result"
    }
   ],
   "source": [
    "# imputation not suitable to highly variable context-dependant text data\n",
    "\n",
    "# we drop rows with missing text as this is the main subject of the anlsyis & less than 10% of the df is missing\n",
    "df = df.dropna(subset=['text'])\n",
    "\n",
    "# filling the missing values in the title column with \"no title\" \n",
    "df['title'] = df['title'].fillna(\"no title\")\n",
    "df.isnull().sum()"
   ]
  },
  {
   "cell_type": "code",
   "execution_count": 237,
   "metadata": {},
   "outputs": [
    {
     "name": "stdout",
     "output_type": "stream",
     "text": [
      "Updated rows:\n",
      "          title                                               text  label\n",
      "1      no title     Did they post their votes for Hillary already?      1\n",
      "43     no title  True. Hillary needs a distraction and what bet...      1\n",
      "162    no title  All eyes on Electoral delegates. The People kn...      1\n",
      "185    no title                                               Cool      1\n",
      "269    no title  A leading US senator: US Supporting War in Syr...      1\n",
      "...         ...                                                ...    ...\n",
      "71484  no title  Another Arab supremacist masturbation fantasy....      1\n",
      "71521  no title  I'm sure they drastically changed accounting m...      1\n",
      "71540  no title  It's easy to imagine Obama or Kerry pissing hi...      1\n",
      "71570  no title  Ever since the powers to be assassinated JFK A...      1\n",
      "71734  no title             Hmm, free college, now that's an idea.      1\n",
      "\n",
      "[558 rows x 3 columns]\n"
     ]
    }
   ],
   "source": [
    "# Verify the previously missing rows have been updated\n",
    "updated_rows = df.loc[missing_titles.index]\n",
    "print(\"Updated rows:\")\n",
    "print(updated_rows[updated_rows['title'] == \"no title\"])"
   ]
  },
  {
   "cell_type": "markdown",
   "metadata": {},
   "source": [
    "Must check the class imbalance; if not significant (over 10-15%), we can continue with the model. \n",
    "\n",
    "This is also ecause our datstset is large with over 70k samples."
   ]
  },
  {
   "cell_type": "code",
   "execution_count": 238,
   "metadata": {},
   "outputs": [
    {
     "name": "stdout",
     "output_type": "stream",
     "text": [
      "Count of True and Fake News:\n",
      "1    37067\n",
      "0    35028\n",
      "Name: label, dtype: int64\n"
     ]
    }
   ],
   "source": [
    "news_counts = df['label'].value_counts()\n",
    "\n",
    "# Display the counts\n",
    "print(\"Count of True and Fake News:\")\n",
    "print(news_counts)"
   ]
  },
  {
   "cell_type": "markdown",
   "metadata": {},
   "source": [
    "### STEP 3: Preprocessing the data"
   ]
  },
  {
   "cell_type": "markdown",
   "metadata": {},
   "source": [
    "Chosen preprocessing method:\n",
    "- Remove stopwords (words which don't add significance & create uncessary overhead)\n",
    "- Text cleaning (remove punctuation, numbers, special characters)\n",
    "- Case-folding to lowercase\n",
    "- Lemmatize"
   ]
  },
  {
   "cell_type": "code",
   "execution_count": 239,
   "metadata": {},
   "outputs": [],
   "source": [
    "import nltk\n",
    "from nltk.corpus import stopwords\n",
    "from nltk.tokenize import word_tokenize\n",
    "from nltk.stem import WordNetLemmatizer\n",
    "from nltk import pos_tag"
   ]
  },
  {
   "cell_type": "code",
   "execution_count": 240,
   "metadata": {},
   "outputs": [
    {
     "name": "stderr",
     "output_type": "stream",
     "text": [
      "[nltk_data] Downloading package omw-1.4 to\n",
      "[nltk_data]     /Users/diya_paul/nltk_data...\n",
      "[nltk_data]   Package omw-1.4 is already up-to-date!\n",
      "[nltk_data] Downloading package stopwords to\n",
      "[nltk_data]     /Users/diya_paul/nltk_data...\n",
      "[nltk_data]   Package stopwords is already up-to-date!\n",
      "[nltk_data] Downloading package wordnet to\n",
      "[nltk_data]     /Users/diya_paul/nltk_data...\n",
      "[nltk_data]   Package wordnet is already up-to-date!\n"
     ]
    }
   ],
   "source": [
    "nltk.download('omw-1.4')\n",
    "nltk.download('stopwords')\n",
    "nltk.download('wordnet')\n",
    "stop_words = set(stopwords.words('english'))\n",
    "lemmatizer = WordNetLemmatizer()"
   ]
  },
  {
   "cell_type": "code",
   "execution_count": 244,
   "metadata": {},
   "outputs": [],
   "source": [
    "negation_words= {'no', 'not', 'neither', 'none', 'nobody', 'nor', 'nothing', 'nowhere', 'never'}\n",
    "stop_words= stop_words - negation_words"
   ]
  },
  {
   "cell_type": "code",
   "execution_count": 245,
   "metadata": {},
   "outputs": [
    {
     "name": "stdout",
     "output_type": "stream",
     "text": [
      "0    [no, comment, is, expected, from, barack, obam...\n",
      "1    [did, they, post, their, votes, for, hillary, ...\n",
      "2    [now, most, of, the, demonstrators, gathered, ...\n",
      "3    [a, dozen, politically, active, pastors, came,...\n",
      "4    [the, rs, sarmat, missile, dubbed, satan, will...\n",
      "Name: clean_text, dtype: object\n",
      "object\n",
      "0    [no, comment, expected, barack, obama, members...\n",
      "1                      [post, votes, hillary, already]\n",
      "2    [demonstrators, gathered, last, night, exercis...\n",
      "3    [dozen, politically, active, pastors, came, pr...\n",
      "4    [rs, sarmat, missile, dubbed, satan, replace, ...\n",
      "Name: clean_text, dtype: object\n",
      "object\n",
      "0    [no, comment, expect, barack, obama, members, ...\n",
      "1                       [post, vote, hillary, already]\n",
      "2    [demonstrators, gather, last, night, exercise,...\n",
      "3    [dozen, politically, active, pastors, come, pr...\n",
      "4    [rs, sarmat, missile, dub, satan, replace, ss,...\n",
      "Name: clean_text, dtype: object\n",
      "object\n",
      "0    no comment expect barack obama members fyf fuk...\n",
      "1                            post vote hillary already\n",
      "2    demonstrators gather last night exercise const...\n",
      "3    dozen politically active pastors come private ...\n",
      "4    rs sarmat missile dub satan replace ss fly mil...\n",
      "Name: clean_text, dtype: object\n",
      "object\n"
     ]
    },
    {
     "data": {
      "text/html": [
       "<div>\n",
       "<style scoped>\n",
       "    .dataframe tbody tr th:only-of-type {\n",
       "        vertical-align: middle;\n",
       "    }\n",
       "\n",
       "    .dataframe tbody tr th {\n",
       "        vertical-align: top;\n",
       "    }\n",
       "\n",
       "    .dataframe thead th {\n",
       "        text-align: right;\n",
       "    }\n",
       "</style>\n",
       "<table border=\"1\" class=\"dataframe\">\n",
       "  <thead>\n",
       "    <tr style=\"text-align: right;\">\n",
       "      <th></th>\n",
       "      <th>text</th>\n",
       "      <th>clean_text</th>\n",
       "    </tr>\n",
       "  </thead>\n",
       "  <tbody>\n",
       "    <tr>\n",
       "      <th>0</th>\n",
       "      <td>No comment is expected from Barack Obama Membe...</td>\n",
       "      <td>no comment expect barack obama members fyf fuk...</td>\n",
       "    </tr>\n",
       "    <tr>\n",
       "      <th>1</th>\n",
       "      <td>Did they post their votes for Hillary already?</td>\n",
       "      <td>post vote hillary already</td>\n",
       "    </tr>\n",
       "    <tr>\n",
       "      <th>2</th>\n",
       "      <td>Now, most of the demonstrators gathered last ...</td>\n",
       "      <td>demonstrators gather last night exercise const...</td>\n",
       "    </tr>\n",
       "    <tr>\n",
       "      <th>3</th>\n",
       "      <td>A dozen politically active pastors came here f...</td>\n",
       "      <td>dozen politically active pastors come private ...</td>\n",
       "    </tr>\n",
       "    <tr>\n",
       "      <th>4</th>\n",
       "      <td>The RS-28 Sarmat missile, dubbed Satan 2, will...</td>\n",
       "      <td>rs sarmat missile dub satan replace ss fly mil...</td>\n",
       "    </tr>\n",
       "  </tbody>\n",
       "</table>\n",
       "</div>"
      ],
      "text/plain": [
       "                                                text  \\\n",
       "0  No comment is expected from Barack Obama Membe...   \n",
       "1     Did they post their votes for Hillary already?   \n",
       "2   Now, most of the demonstrators gathered last ...   \n",
       "3  A dozen politically active pastors came here f...   \n",
       "4  The RS-28 Sarmat missile, dubbed Satan 2, will...   \n",
       "\n",
       "                                          clean_text  \n",
       "0  no comment expect barack obama members fyf fuk...  \n",
       "1                          post vote hillary already  \n",
       "2  demonstrators gather last night exercise const...  \n",
       "3  dozen politically active pastors come private ...  \n",
       "4  rs sarmat missile dub satan replace ss fly mil...  "
      ]
     },
     "execution_count": 245,
     "metadata": {},
     "output_type": "execute_result"
    }
   ],
   "source": [
    "# Text preprocessing (optional: remove stopwords)\n",
    "df['clean_text'] = df['text'].str.lower().str.replace(r'[^a-zA-Z\\s]', '', regex=True)\n",
    "\n",
    "df['clean_text'] =df['clean_text'].apply(lambda x: x.split()) # tokenize the text\n",
    "\n",
    "print(df['clean_text'].head())  # Inspect the first few rows\n",
    "print(df['clean_text'].dtype)  # Check the column's data type\n",
    "\n",
    "df['clean_text'] = df['clean_text'].apply(lambda x:[word for word in x if word not in stop_words])\n",
    "print(df['clean_text'].head())  # Inspect the first few rows\n",
    "print(df['clean_text'].dtype)  # Check the column's data type\n",
    "\n",
    "df['clean_text'] = df['clean_text'].apply(lambda x: [lemmatizer.lemmatize(word, pos='v') for word in x])\n",
    "\n",
    "print(df['clean_text'].head())  # Inspect the first few rows\n",
    "print(df['clean_text'].dtype)  # Check the column's data type\n",
    "\n",
    "df['clean_text'] = df['clean_text'].apply(lambda x:' '.join(x))\n",
    "\n",
    "print(df['clean_text'].head())  # Inspect the first few rows\n",
    "print(df['clean_text'].dtype)  # Check the column's data type\n",
    "\n",
    "df[['text', 'clean_text']].head()"
   ]
  },
  {
   "cell_type": "markdown",
   "metadata": {},
   "source": [
    "### STEP 4: Feature Weighting via TF-IDF"
   ]
  },
  {
   "cell_type": "code",
   "execution_count": 246,
   "metadata": {},
   "outputs": [
    {
     "name": "stdout",
     "output_type": "stream",
     "text": [
      "TF-IDF matrix shape: (72095, 5000)\n"
     ]
    }
   ],
   "source": [
    "# Convert text to numerical features using TF-IDF\n",
    "vectorizer = TfidfVectorizer(max_features=5000)\n",
    "x = vectorizer.fit_transform(df['clean_text'])\n",
    "y = df['label']  # Assuming 'label' column contains target labels\n",
    "print(f\"TF-IDF matrix shape: {x.shape}\")\n",
    "\n",
    "x_train, x_test, y_train, y_test = train_test_split(x, y, test_size=0.3, random_state=42)\n"
   ]
  },
  {
   "cell_type": "markdown",
   "metadata": {},
   "source": [
    "### STEP 5: Training the SVM model"
   ]
  },
  {
   "cell_type": "code",
   "execution_count": 248,
   "metadata": {},
   "outputs": [
    {
     "name": "stdout",
     "output_type": "stream",
     "text": [
      "SVM Model Training Complete!\n"
     ]
    }
   ],
   "source": [
    "# Initialize and train the SVM model\n",
    "svm_model = SVC(kernel='linear', class_weight='balanced', random_state=42)  # Use 'balanced' for class imbalance\n",
    "svm_model.fit(x_train, y_train)\n",
    "\n",
    "print(\"SVM Model Training Complete!\")"
   ]
  },
  {
   "cell_type": "code",
   "execution_count": 250,
   "metadata": {},
   "outputs": [
    {
     "data": {
      "text/plain": [
       "SVC(class_weight='balanced', random_state=42)"
      ]
     },
     "execution_count": 250,
     "metadata": {},
     "output_type": "execute_result"
    }
   ],
   "source": [
    "svm_rbf = SVC(kernel='rbf', class_weight='balanced', random_state=42)\n",
    "svm_rbf.fit(x_train, y_train)\n",
    "\n",
    "print(\"SVM Model Training Complete!\")"
   ]
  },
  {
   "cell_type": "markdown",
   "metadata": {},
   "source": [
    "### STEP 6: Testing the SVM model"
   ]
  },
  {
   "cell_type": "code",
   "execution_count": null,
   "metadata": {},
   "outputs": [
    {
     "name": "stdout",
     "output_type": "stream",
     "text": [
      "Accuracy: 0.9491423551712977\n",
      "Classification Report:\n",
      "               precision    recall  f1-score   support\n",
      "\n",
      "           0       0.95      0.95      0.95     10453\n",
      "           1       0.95      0.95      0.95     11176\n",
      "\n",
      "    accuracy                           0.95     21629\n",
      "   macro avg       0.95      0.95      0.95     21629\n",
      "weighted avg       0.95      0.95      0.95     21629\n",
      "\n",
      "Confusion Matrix:\n",
      " [[ 9888   565]\n",
      " [  535 10641]]\n"
     ]
    },
    {
     "data": {
      "image/png": "[encoded data removed]",
      "text/plain": [
       "<Figure size 640x480 with 2 Axes>"
      ]
     },
     "metadata": {},
     "output_type": "display_data"
    }
   ],
   "source": [
    "# Predictions using the linear kernel SVM model\n",
    "y_pred = svm_model.predict(x_test)\n",
    "\n",
    "# Evaluate performance\n",
    "print(\"Accuracy:\", accuracy_score(y_test, y_pred))\n",
    "print(\"Classification Report:\\n\", classification_report(y_test, y_pred))\n",
    "print(\"Confusion Matrix:\\n\", confusion_matrix(y_test, y_pred))\n",
    "\n",
    "# Visualize confusion matrix\n",
    "ConfusionMatrixDisplay.from_predictions(y_test, y_pred, cmap='Blues')\n",
    "plt.title(\"Confusion Matrix\")\n",
    "plt.show()\n"
   ]
  },
  {
   "cell_type": "code",
   "execution_count": 251,
   "metadata": {},
   "outputs": [
    {
     "name": "stdout",
     "output_type": "stream",
     "text": [
      "Accuracy: 0.959545055249896\n",
      "Classification Report:\n",
      "               precision    recall  f1-score   support\n",
      "\n",
      "           0       0.96      0.95      0.96     10453\n",
      "           1       0.96      0.97      0.96     11176\n",
      "\n",
      "    accuracy                           0.96     21629\n",
      "   macro avg       0.96      0.96      0.96     21629\n",
      "weighted avg       0.96      0.96      0.96     21629\n",
      "\n",
      "Confusion Matrix:\n",
      " [[ 9965   488]\n",
      " [  387 10789]]\n"
     ]
    },
    {
     "data": {
      "image/png": "[encoded data removed]",
      "text/plain": [
       "<Figure size 640x480 with 2 Axes>"
      ]
     },
     "metadata": {},
     "output_type": "display_data"
    }
   ],
   "source": [
    "# Predictions using the rbf kernel model and the test data\n",
    "y_pred = svm_rbf.predict(x_test)\n",
    "\n",
    "# Evaluate performance\n",
    "print(\"Accuracy:\", accuracy_score(y_test, y_pred))\n",
    "print(\"Classification Report:\\n\", classification_report(y_test, y_pred))\n",
    "print(\"Confusion Matrix:\\n\", confusion_matrix(y_test, y_pred))\n",
    "\n",
    "# Visualize confusion matrix\n",
    "ConfusionMatrixDisplay.from_predictions(y_test, y_pred, cmap='Blues')\n",
    "plt.title(\"Confusion Matrix\")\n",
    "plt.show()"
   ]
  },
  {
   "cell_type": "markdown",
   "metadata": {},
   "source": [
    "### STEP 7: Visulaising the results"
   ]
  },
  {
   "cell_type": "code",
   "execution_count": 256,
   "metadata": {},
   "outputs": [
    {
     "data": {
      "image/png": "[encoded data removed]",
      "text/plain": [
       "<Figure size 640x480 with 1 Axes>"
      ]
     },
     "metadata": {},
     "output_type": "display_data"
    }
   ],
   "source": [
    "models= ['SVM (Linear Kernel)','SVM (RBF Kernel)']\n",
    "precision = [0.9491423551712977, 0.959545055249896]\n",
    "recall = [0.95, 0.96]\n",
    "f1_scores = [0.95, 0.96]\n",
    "\n",
    "bar_width = 0.2\n",
    "x = np.arange(len(models))\n",
    "\n",
    "fig, ax = plt.subplots()\n",
    "bar1 = ax.bar(x - bar_width, precision, bar_width, label='Precision')\n",
    "bar2 = ax.bar(x, recall, bar_width, label='Recall')\n",
    "bar3 = ax.bar(x + bar_width, f1_scores, bar_width, label='F1-Score')\n",
    "\n",
    "# Add labels, title, and legend\n",
    "ax.set_xlabel('Models')\n",
    "ax.set_ylabel('Scores')\n",
    "ax.set_title('Performance Metrics Comparison')\n",
    "ax.set_xticks(x)\n",
    "ax.set_xticklabels(models)\n",
    "ax.legend()\n",
    "\n",
    "# Display the graph\n",
    "plt.tight_layout()\n",
    "plt.show()"
   ]
  },
  {
   "cell_type": "code",
   "execution_count": 257,
   "metadata": {},
   "outputs": [
    {
     "data": {
      "image/png": "[encoded data removed]",
      "text/plain": [
       "<Figure size 1200x600 with 4 Axes>"
      ]
     },
     "metadata": {},
     "output_type": "display_data"
    }
   ],
   "source": [
    "import seaborn as sns\n",
    "\n",
    "# Confusion matrices\n",
    "confusion_matrix_linear = [[9888, 565], [535, 10641]]  # Replace with actual values\n",
    "confusion_matrix_rbf = [[9965, 488], [387, 10789]]  # Replace with actual values\n",
    "\n",
    "fig, axes = plt.subplots(1, 2, figsize=(12, 6))\n",
    "\n",
    "# Plot Linear Kernel Confusion Matrix\n",
    "sns.heatmap(confusion_matrix_linear, annot=True, fmt='d', cmap='Blues', ax=axes[0])\n",
    "axes[0].set_title('Confusion Matrix - Linear Kernel')\n",
    "axes[0].set_xlabel('Predicted')\n",
    "axes[0].set_ylabel('Actual')\n",
    "\n",
    "# Plot RBF Kernel Confusion Matrix\n",
    "sns.heatmap(confusion_matrix_rbf, annot=True, fmt='d', cmap='Blues', ax=axes[1])\n",
    "axes[1].set_title('Confusion Matrix - RBF Kernel')\n",
    "axes[1].set_xlabel('Predicted')\n",
    "axes[1].set_ylabel('Actual')\n",
    "\n",
    "plt.tight_layout()\n",
    "plt.show()\n"
   ]
  }
 ],
 "metadata": {
  "kernelspec": {
   "display_name": "base",
   "language": "python",
   "name": "python3"
  },
  "language_info": {
   "codemirror_mode": {
    "name": "ipython",
    "version": 3
   },
   "file_extension": ".py",
   "mimetype": "text/x-python",
   "name": "python",
   "nbconvert_exporter": "python",
   "pygments_lexer": "ipython3",
   "version": "3.9.13"
  }
 },
 "nbformat": 4,
 "nbformat_minor": 2
}
